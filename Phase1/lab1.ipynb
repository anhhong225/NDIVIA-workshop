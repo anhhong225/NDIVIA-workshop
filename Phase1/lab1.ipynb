{
 "cells": [
  {
   "cell_type": "markdown",
   "id": "60a5b65f",
   "metadata": {},
   "source": [
    "# Machine Learning Fundamentals Workshop\n",
    "\n",
    "Welcome! This notebook guides you through practical exercises in `Python, NumPy, Pandas, Matplotlib, and scikit-learn`.  \n",
    "Follow each section, run the code cells, and complete the exercises to build your ML skills."
   ]
  },
  {
   "cell_type": "markdown",
   "id": "83f1f548",
   "metadata": {},
   "source": [
    "## 1. Python & NumPy Basics\n",
    "\n",
    "NumPy is the foundation for numerical computing in Python.\n"
   ]
  },
  {
   "cell_type": "markdown",
   "id": "a9feb3bd",
   "metadata": {},
   "source": [
    "#### 1d list"
   ]
  },
  {
   "cell_type": "code",
   "execution_count": 1,
   "id": "4fd00ed5",
   "metadata": {},
   "outputs": [
    {
     "name": "stdout",
     "output_type": "stream",
     "text": [
      "[1, 2, 3, 1, 1, 2]\n",
      "[1, 2, 3, 1, 1, 2]\n"
     ]
    }
   ],
   "source": [
    "# Build-in collection: list, tuple, set,dictionary\n",
    "ls = [1,2,3,\"a\",True,1,1,2]\n",
    "#indexing and slicing\n",
    "# ls[1:3]\n",
    "# for i in range(len(ls)):\n",
    "#     print(f\"index={i}\")\n",
    "subls=[]\n",
    "for item in ls:\n",
    "    if(type(item)==int):\n",
    "        subls += [item]\n",
    "print(subls)\n",
    "subls2 = [item for item in ls if type(item)==int]\n",
    "print(subls2)"
   ]
  },
  {
   "cell_type": "code",
   "execution_count": 2,
   "id": "217a2a2b",
   "metadata": {},
   "outputs": [
    {
     "name": "stdout",
     "output_type": "stream",
     "text": [
      "[ True  True  True False False  True  True  True]\n"
     ]
    }
   ],
   "source": [
    "import numpy as np\n",
    "\n",
    "arr = np.array(ls) #string elements\n",
    "arr = np.char.isdigit(arr)\n",
    "print(arr)"
   ]
  },
  {
   "cell_type": "markdown",
   "id": "cce7c498",
   "metadata": {},
   "source": [
    "#### 2d list"
   ]
  },
  {
   "cell_type": "code",
   "execution_count": 3,
   "id": "e9f95fc4",
   "metadata": {},
   "outputs": [
    {
     "data": {
      "text/plain": [
       "[3, 6]"
      ]
     },
     "execution_count": 3,
     "metadata": {},
     "output_type": "execute_result"
    }
   ],
   "source": [
    "ls2d = [[1,2,3],[4,5,6]]\n",
    "ls2d[0][2]\n",
    "column3 = [ls2d[i][2] for i in range(len(ls2d))]\n",
    "column3"
   ]
  },
  {
   "cell_type": "code",
   "execution_count": 4,
   "id": "c03b070d",
   "metadata": {},
   "outputs": [
    {
     "data": {
      "text/plain": [
       "[1, 2, 3, 4, 5, 6]"
      ]
     },
     "execution_count": 4,
     "metadata": {},
     "output_type": "execute_result"
    }
   ],
   "source": [
    "ls2d[0]+ls2d[1]"
   ]
  },
  {
   "cell_type": "code",
   "execution_count": 5,
   "id": "6af7178e",
   "metadata": {},
   "outputs": [],
   "source": [
    "arr2d = np.array(ls2d)\n"
   ]
  },
  {
   "cell_type": "code",
   "execution_count": 6,
   "id": "9dafbf36",
   "metadata": {},
   "outputs": [
    {
     "name": "stdout",
     "output_type": "stream",
     "text": [
      "Array: [1 2 3 4 5]\n",
      "Mean: 3.0\n",
      "Standard Deviation: 1.4142135623730951\n",
      "Matrix:\n",
      " [[1 2 3]\n",
      " [4 5 6]\n",
      " [7 8 9]]\n",
      "Column sums: [12 15 18]\n"
     ]
    }
   ],
   "source": [
    "import numpy as np\n",
    "\n",
    "# Create a 1D array\n",
    "arr = np.array([1, 2, 3, 4, 5])\n",
    "print(\"Array:\", arr)\n",
    "print(\"Mean:\", np.mean(arr))\n",
    "print(\"Standard Deviation:\", np.std(arr))\n",
    "\n",
    "# Exercise: Create a 3x3 matrix and calculate the sum of each column.\n",
    "matrix = np.array([[1, 2, 3], [4, 5, 6], [7, 8, 9]])\n",
    "print(\"Matrix:\\n\", matrix)\n",
    "print(\"Column sums:\", np.sum(matrix, axis=0))\n"
   ]
  },
  {
   "cell_type": "markdown",
   "id": "be7baa46",
   "metadata": {},
   "source": [
    "## 2. Pandas for Data Analysis\n",
    "\n",
    "Pandas makes working with tabular data easy.\n"
   ]
  },
  {
   "cell_type": "code",
   "execution_count": 6,
   "id": "43087aa7",
   "metadata": {},
   "outputs": [
    {
     "data": {
      "text/html": [
       "<div>\n",
       "<style scoped>\n",
       "    .dataframe tbody tr th:only-of-type {\n",
       "        vertical-align: middle;\n",
       "    }\n",
       "\n",
       "    .dataframe tbody tr th {\n",
       "        vertical-align: top;\n",
       "    }\n",
       "\n",
       "    .dataframe thead th {\n",
       "        text-align: right;\n",
       "    }\n",
       "</style>\n",
       "<table border=\"1\" class=\"dataframe\">\n",
       "  <thead>\n",
       "    <tr style=\"text-align: right;\">\n",
       "      <th></th>\n",
       "      <th>Name</th>\n",
       "      <th>Grade</th>\n",
       "      <th>Attendance</th>\n",
       "    </tr>\n",
       "  </thead>\n",
       "  <tbody>\n",
       "    <tr>\n",
       "      <th>0</th>\n",
       "      <td>John</td>\n",
       "      <td>6.0</td>\n",
       "      <td>True</td>\n",
       "    </tr>\n",
       "    <tr>\n",
       "      <th>1</th>\n",
       "      <td>Smith</td>\n",
       "      <td>8.0</td>\n",
       "      <td>True</td>\n",
       "    </tr>\n",
       "    <tr>\n",
       "      <th>2</th>\n",
       "      <td>Taylor</td>\n",
       "      <td>9.5</td>\n",
       "      <td>False</td>\n",
       "    </tr>\n",
       "  </tbody>\n",
       "</table>\n",
       "</div>"
      ],
      "text/plain": [
       "     Name  Grade  Attendance\n",
       "0    John    6.0        True\n",
       "1   Smith    8.0        True\n",
       "2  Taylor    9.5       False"
      ]
     },
     "execution_count": 6,
     "metadata": {},
     "output_type": "execute_result"
    }
   ],
   "source": [
    "import pandas as pd\n",
    "mydict = {\n",
    "    \"Name\":[\"John\", \"Smith\", \"Taylor\"],\n",
    "    \"Grade\":[6,8,9.5],\n",
    "    \"Attendance\": [True,True,False]\n",
    "}\n",
    "df = pd.DataFrame(mydict)\n",
    "df"
   ]
  },
  {
   "cell_type": "code",
   "execution_count": 2,
   "id": "28f3b274",
   "metadata": {},
   "outputs": [
    {
     "name": "stdout",
     "output_type": "stream",
     "text": [
      "   survived  pclass     sex   age  sibsp  parch     fare embarked  class  \\\n",
      "0         0       3    male  22.0      1      0   7.2500        S  Third   \n",
      "1         1       1  female  38.0      1      0  71.2833        C  First   \n",
      "2         1       3  female  26.0      0      0   7.9250        S  Third   \n",
      "3         1       1  female  35.0      1      0  53.1000        S  First   \n",
      "4         0       3    male  35.0      0      0   8.0500        S  Third   \n",
      "\n",
      "     who  adult_male deck  embark_town alive  alone  \n",
      "0    man        True  NaN  Southampton    no  False  \n",
      "1  woman       False    C    Cherbourg   yes  False  \n",
      "2  woman       False  NaN  Southampton   yes   True  \n",
      "3  woman       False    C  Southampton   yes  False  \n",
      "4    man        True  NaN  Southampton    no   True  \n",
      "survived         0\n",
      "pclass           0\n",
      "sex              0\n",
      "age            177\n",
      "sibsp            0\n",
      "parch            0\n",
      "fare             0\n",
      "embarked         2\n",
      "class            0\n",
      "who              0\n",
      "adult_male       0\n",
      "deck           688\n",
      "embark_town      2\n",
      "alive            0\n",
      "alone            0\n",
      "dtype: int64\n",
      "Unique Embarked: ['S' 'C' 'Q' nan]\n"
     ]
    },
    {
     "name": "stderr",
     "output_type": "stream",
     "text": [
      "C:\\Users\\helen\\AppData\\Local\\Temp\\ipykernel_26660\\1495001529.py:13: FutureWarning: A value is trying to be set on a copy of a DataFrame or Series through chained assignment using an inplace method.\n",
      "The behavior will change in pandas 3.0. This inplace method will never work because the intermediate object on which we are setting values always behaves as a copy.\n",
      "\n",
      "For example, when doing 'df[col].method(value, inplace=True)', try using 'df.method({col: value}, inplace=True)' or df[col] = df[col].method(value) instead, to perform the operation inplace on the original object.\n",
      "\n",
      "\n",
      "  titanic['embarked'].fillna(titanic['embarked'].mode()[0], inplace=True)\n"
     ]
    }
   ],
   "source": [
    "import pandas as pd\n",
    "\n",
    "# Load Titanic dataset (from seaborn for simplicity)\n",
    "import seaborn as sns\n",
    "titanic = sns.load_dataset('titanic')\n",
    "print(titanic.head())\n",
    "\n",
    "# Check for missing values\n",
    "print(titanic.isnull().sum())\n",
    "\n",
    "# Exercise: Count unique values in the 'embarked' column and fill missing values with the mode.\n",
    "print(\"Unique Embarked:\", titanic['embarked'].unique())\n",
    "titanic['embarked'].fillna(titanic['embarked'].mode()[0], inplace=True)\n"
   ]
  },
  {
   "cell_type": "markdown",
   "id": "e6b26695",
   "metadata": {},
   "source": [
    "## 3. Data Visualization\n",
    "\n",
    "Matplotlib helps visualize data distributions and relationships.\n"
   ]
  },
  {
   "cell_type": "markdown",
   "id": "7fe0c9b7",
   "metadata": {},
   "source": []
  },
  {
   "cell_type": "code",
   "execution_count": 11,
   "id": "b3330d21",
   "metadata": {},
   "outputs": [
    {
     "data": {
      "image/png": "[encoded data removed]",
      "text/plain": [
       "<Figure size 800x500 with 1 Axes>"
      ]
     },
     "metadata": {},
     "output_type": "display_data"
    },
    {
     "data": {
      "image/png": "[encoded data removed]",
      "text/plain": [
       "<Figure size 640x480 with 1 Axes>"
      ]
     },
     "metadata": {},
     "output_type": "display_data"
    }
   ],
   "source": [
    "import matplotlib.pyplot as plt\n",
    "\n",
    "# Histogram of passenger age\n",
    "fig = plt.figure(figsize=(8,5))\n",
    "plt.hist(titanic['age'].dropna(), bins=30, color='skyblue')\n",
    "plt.title('Age Distribution')\n",
    "plt.xlabel('Age')\n",
    "plt.ylabel('Count')\n",
    "fig.savefig(\"outputs/hist.png\")\n",
    "plt.show()\n",
    "\n",
    "# Exercise: Create a scatter plot of 'fare' vs 'age'.\n",
    "plt.scatter(titanic['age'], titanic['fare'], alpha=0.5)\n",
    "plt.xlabel('Age')\n",
    "plt.ylabel('Fare')\n",
    "plt.title('Fare vs Age')\n",
    "plt.show()\n"
   ]
  },
  {
   "cell_type": "markdown",
   "id": "2943b101",
   "metadata": {},
   "source": [
    "1. Basic Plotting\n",
    "- Plot a line graph showing the squares of numbers from 0 to 10.\n",
    "- Add axis labels and a title.\n",
    "\n",
    "2. Histogram\n",
    "- Plot a line graph showing the squares of numbers from 0 to 10.\n",
    "- Add axis labels and a title.\n",
    "\n",
    "3. Scatter plot\n",
    "- Use the Pandas `DataFrame` from earlier.\n",
    "- Plot a scatter plot of `Age` vs. `Score`.\n",
    "- Color points by the value in the Passed column.\n"
   ]
  },
  {
   "cell_type": "code",
   "execution_count": 21,
   "id": "352ddc21",
   "metadata": {},
   "outputs": [
    {
     "data": {
      "image/png": "[encoded data removed]",
      "text/plain": [
       "<Figure size 640x480 with 1 Axes>"
      ]
     },
     "metadata": {},
     "output_type": "display_data"
    }
   ],
   "source": [
    "import numpy as np\n",
    "x = np.linspace(-10,10,10)\n",
    "y = x**2 +3\n",
    "y2 = 2*x +10\n",
    "plt.figure()\n",
    "plt.plot(x,y,color=\"red\",marker=\"o\", label=\"quadratic\")\n",
    "plt.plot(x,y2,color=\"blue\",marker=\"x\", label=\"linear\")\n",
    "plt.ylim(-20,120)\n",
    "plt.xlim(-15,15)\n",
    "plt.title(\"Squared of number -10 to 10\")\n",
    "plt.xlabel(\"x\")\n",
    "plt.ylabel(\"y\")\n",
    "plt.legend()\n",
    "plt.show()\n"
   ]
  },
  {
   "cell_type": "markdown",
   "id": "91e7ef2c",
   "metadata": {},
   "source": [
    "## Exercise 1:\n",
    "A. `Numpy` exercise\n",
    "1. Create and Manipulate Arrays\n",
    "- Create a 1D NumPy array of numbers from 0 to 9.\n",
    "- Reshape it into a 2D array with 2 rows.\n",
    "- Calculate the sum of all elements and the mean of each row.\n",
    "\n",
    "2. Array Slicing and Indexing\n",
    "- Given an array arr = np.arange(20), extract all even numbers.\n",
    "- Replace all values greater than 10 with -1.\n",
    "\n",
    "3. Mathematical Operations\n",
    "- Generate a 3x3 matrix of random integers between 1 and 10.\n",
    "- Compute the element-wise square of the matrix.\n",
    "- Find the maximum value in each column.\n",
    "\n",
    "B. `Pandas` exercise\n",
    "1. DataFrame Creation and Exploration\n",
    "- Create a DataFrame with columns: Name, Age, Score.\n",
    "- Add at least 5 rows of sample data.\n",
    "- Display summary statistics and check for missing values.\n",
    "\n",
    "2. Data Selection and Filtering\n",
    "- From the DataFrame above, select all rows where Score is greater than 80.\n",
    "- Add a new column called Passed that is True if Score ≥ 60, else False.\n",
    "\n",
    "3. Data Cleaning\n",
    "- Introduce some missing values in the Age column.\n",
    "- Fill missing ages with the mean age.\n",
    "- Remove any duplicate rows from the DataFrame.\n",
    "\n",
    "C. `Matplotlib` exercise\n",
    "1. Basic Plotting\n",
    "- Plot a line graph showing the squares of numbers from 0 to 10.\n",
    "- Add axis labels and a title.\n",
    "\n",
    "2. Histogram\n",
    "- Plot a line graph showing the squares of numbers from 0 to 10.\n",
    "- Add axis labels and a title.\n",
    "\n",
    "3. Scatter plot\n",
    "- Use the Pandas `DataFrame` from earlier.\n",
    "- Plot a scatter plot of `Age` vs. `Score`.\n",
    "- Color points by the value in the Passed column.\n"
   ]
  },
  {
   "cell_type": "code",
   "execution_count": 27,
   "id": "555efc46",
   "metadata": {},
   "outputs": [
    {
     "name": "stdout",
     "output_type": "stream",
     "text": [
      "Array reshape:  [[0 1 2 3 4]\n",
      " [5 6 7 8 9]] \n",
      "\n",
      "Mean each row:  [2. 7.]\n"
     ]
    }
   ],
   "source": [
    "# Your code here\n",
    "array = np.array([0,1,2,3,4,5,6,7,8,9])\n",
    "arr2 = array.reshape(2,-1)\n",
    "sum = arr2.sum()\n",
    "mean_row = arr2.mean(axis=1)\n",
    "print(\"Array reshape: \", arr2,\"\\n\")\n",
    "print(\"Mean each row: \", mean_row)"
   ]
  },
  {
   "cell_type": "code",
   "execution_count": 32,
   "id": "605213ba",
   "metadata": {},
   "outputs": [
    {
     "data": {
      "text/plain": [
       "array([ 0,  1,  2,  3,  4,  5,  6,  7,  8,  9, 10, -1, -1, -1, -1, -1, -1,\n",
       "       -1, -1, -1])"
      ]
     },
     "execution_count": 32,
     "metadata": {},
     "output_type": "execute_result"
    }
   ],
   "source": [
    "array2 = np.arange(20)\n",
    "even2 = array2[array2%2==0]\n",
    "array2_copy = array2.copy()\n",
    "array2_copy[array2_copy>10]= -1\n",
    "array2_copy"
   ]
  },
  {
   "cell_type": "code",
   "execution_count": 35,
   "id": "4a93da70",
   "metadata": {},
   "outputs": [
    {
     "name": "stdout",
     "output_type": "stream",
     "text": [
      "[[ 5 10  7]\n",
      " [ 4  4  8]\n",
      " [ 8 10  8]] \n",
      "\n",
      "[[ 25 100  49]\n",
      " [ 16  16  64]\n",
      " [ 64 100  64]]\n"
     ]
    },
    {
     "data": {
      "text/plain": [
       "array([100,  64, 100], dtype=int32)"
      ]
     },
     "execution_count": 35,
     "metadata": {},
     "output_type": "execute_result"
    }
   ],
   "source": [
    "np.random.seed(7) #for reproducibility\n",
    "matrix = np.random.randint(1,11,size=(3,3))\n",
    "squared_matrix = matrix**2\n",
    "print(matrix,\"\\n\")\n",
    "print(squared_matrix)\n",
    "max=squared_matrix.max(axis=1)\n",
    "max"
   ]
  },
  {
   "cell_type": "markdown",
   "id": "1b3bca3c",
   "metadata": {},
   "source": [
    "## 4. Linear Regression Example (Diabetes Dataset)\n",
    "\n",
    "Linear regression predicts continuous values.\n"
   ]
  },
  {
   "cell_type": "code",
   "execution_count": 1,
   "id": "da2c57db",
   "metadata": {},
   "outputs": [
    {
     "name": "stdout",
     "output_type": "stream",
     "text": [
      "MSE : 5558915986.95244\n",
      "MAE : 53320.013049565685\n",
      "R²  : 0.575787706032451\n"
     ]
    }
   ],
   "source": [
    "from sklearn.datasets import fetch_california_housing\n",
    "from sklearn.model_selection import train_test_split\n",
    "from sklearn.linear_model import LinearRegression\n",
    "from sklearn.metrics import mean_squared_error, mean_absolute_error, r2_score\n",
    "import pandas as pd\n",
    "\n",
    "#Load and inspect\n",
    "cal = fetch_california_housing(as_frame=True)\n",
    "X, y = cal.data, cal.target * 100_000        # convert to dollars for readability\n",
    "\n",
    "#Train / test split\n",
    "X_train, X_test, y_train, y_test = train_test_split(X, y, test_size=0.2, random_state=42)\n",
    "\n",
    "#Fit\n",
    "model = LinearRegression()\n",
    "model.fit(X_train, y_train)\n",
    "\n",
    "#Evaluate\n",
    "y_pred = model.predict(X_test)\n",
    "print(\"MSE :\", mean_squared_error(y_test, y_pred))\n",
    "print(\"MAE :\", mean_absolute_error(y_test, y_pred))\n",
    "print(\"R²  :\", r2_score(y_test, y_pred))\n"
   ]
  },
  {
   "cell_type": "code",
   "execution_count": 6,
   "id": "312915f3",
   "metadata": {},
   "outputs": [
    {
     "data": {
      "image/png": "[encoded data removed]",
      "text/plain": [
       "<Figure size 700x400 with 1 Axes>"
      ]
     },
     "metadata": {},
     "output_type": "display_data"
    },
    {
     "data": {
      "text/plain": [
       "<Figure size 700x400 with 0 Axes>"
      ]
     },
     "metadata": {},
     "output_type": "display_data"
    }
   ],
   "source": [
    "import matplotlib.pyplot as plt  \n",
    "\n",
    "# 1. Compute residuals\n",
    "residuals = y_test - y_pred                \n",
    "\n",
    "# 2. Residual-vs-Predicted scatter plot\n",
    "plt.figure(figsize=(7,4))\n",
    "# code here\n",
    "plt.scatter(y_test,y_pred)\n",
    "plt.show()\n",
    "\n",
    "# 3. Histogram (and KDE) of residuals\n",
    "plt.figure(figsize=(7,4))\n",
    "# code here\n",
    "plt.show()\n"
   ]
  },
  {
   "cell_type": "markdown",
   "id": "759d173c",
   "metadata": {},
   "source": [
    "## 5. Logistic Regression Example (Iris Dataset)\n",
    "\n",
    "Logistic regression is used for classification tasks.\n"
   ]
  },
  {
   "cell_type": "code",
   "execution_count": 7,
   "id": "7825a16e",
   "metadata": {},
   "outputs": [
    {
     "name": "stdout",
     "output_type": "stream",
     "text": [
      "Accuracy: 1.0\n",
      "Classification Report:\n",
      "               precision    recall  f1-score   support\n",
      "\n",
      "           0       1.00      1.00      1.00        10\n",
      "           1       1.00      1.00      1.00         9\n",
      "           2       1.00      1.00      1.00        11\n",
      "\n",
      "    accuracy                           1.00        30\n",
      "   macro avg       1.00      1.00      1.00        30\n",
      "weighted avg       1.00      1.00      1.00        30\n",
      "\n",
      "Confusion Matrix:\n",
      " [[10  0  0]\n",
      " [ 0  9  0]\n",
      " [ 0  0 11]]\n"
     ]
    }
   ],
   "source": [
    "from sklearn.datasets import load_iris\n",
    "from sklearn.linear_model import LogisticRegression\n",
    "from sklearn.model_selection import train_test_split\n",
    "from sklearn.metrics import accuracy_score, classification_report, confusion_matrix\n",
    "\n",
    "# Load data\n",
    "X, y = load_iris(return_X_y=True)\n",
    "X_train, X_test, y_train, y_test = train_test_split(X, y, test_size=0.2, random_state=42)\n",
    "\n",
    "# Train model\n",
    "clf = LogisticRegression(max_iter=200)\n",
    "clf.fit(X_train, y_train)\n",
    "\n",
    "# Predict and evaluate\n",
    "y_pred = clf.predict(X_test)\n",
    "print(\"Accuracy:\", accuracy_score(y_test, y_pred))\n",
    "print(\"Classification Report:\\n\", classification_report(y_test, y_pred))\n",
    "print(\"Confusion Matrix:\\n\", confusion_matrix(y_test, y_pred))\n",
    "\n",
    "# Exercise: Change test_size to 0.3 and observe the effect on accuracy.\n"
   ]
  },
  {
   "cell_type": "markdown",
   "id": "357358c4",
   "metadata": {},
   "source": [
    "## Exercise 2 - Mini Project\n",
    "\n",
    "A. [Abalone Dataset](https://www.kaggle.com/datasets/rodolfomendes/abalone-dataset) — Regression Task\n",
    "\n",
    "1.  Project Overview:\n",
    "\n",
    "- Goal: Predict the age of abalone (number of rings) based on physical measurements.\n",
    "- Task Type: Regression\n",
    "- Dataset Source: UCI Machine Learning Repository\n",
    "\n",
    "1.  Dataset Features\n",
    "- Sex: Categorical (M, F, I)\n",
    "- Length, Diameter, Height: Numeric (physical measurements)\n",
    "- Whole weight, Shucked weight, Viscera weight, Shell weight: Numeric (weights in grams)\n",
    "- Rings: Integer (target variable; age = rings + 1.5)"
   ]
  },
  {
   "cell_type": "code",
   "execution_count": null,
   "id": "efccae53",
   "metadata": {},
   "outputs": [],
   "source": [
    "# 1. Import required libraries\n",
    "import pandas as pd\n",
    "import numpy as np\n",
    "from sklearn.model_selection import train_test_split\n",
    "from sklearn.preprocessing import OneHotEncoder, StandardScaler\n",
    "from sklearn.linear_model import LinearRegression\n",
    "from sklearn.metrics import mean_squared_error, r2_score\n",
    "\n",
    "# 2. Load the Abalone dataset\n",
    "\n",
    "\n",
    "# 3. Data preprocessing\n",
    "# Encode categorical 'Sex' feature using OneHotEncoder\n",
    "\n",
    "\n",
    "# 4. Define features and target\n",
    "\n",
    "\n",
    "# 5. Split data into training and test sets\n",
    "\n",
    "\n",
    "# 6. Feature scaling (optional but recommended for regression)\n",
    "\n",
    "\n",
    "# 7. Train a Linear Regression model\n",
    "\n",
    "\n",
    "# 8. Make predictions and evaluate\n",
    "\n",
    "\n"
   ]
  },
  {
   "cell_type": "markdown",
   "id": "d77257cd",
   "metadata": {},
   "source": [
    "B. [Breast Cancer Wisconsin (Diagnostic)](https://www.kaggle.com/datasets/uciml/breast-cancer-wisconsin-data) — Classification Task\n",
    "1. Project Overview\n",
    "- Goal: Predict whether a tumor is malignant or benign based on cell features.\n",
    "- Task Type: Classification\n",
    "- Dataset Source: Built into scikit-learn\n",
    "\n",
    "2. Dataset Features\n",
    "- 30 numeric features (mean, standard error, and worst of various cell characteristics)\n",
    "- Target: Diagnosis (0 = malignant, 1 = benign)"
   ]
  },
  {
   "cell_type": "code",
   "execution_count": null,
   "id": "1f8b6075",
   "metadata": {},
   "outputs": [],
   "source": [
    "# 1. Import required libraries\n",
    "from sklearn.datasets import load_breast_cancer\n",
    "from sklearn.model_selection import train_test_split\n",
    "from sklearn.preprocessing import StandardScaler\n",
    "from sklearn.linear_model import LogisticRegression\n",
    "from sklearn.metrics import accuracy_score, classification_report, confusion_matrix\n",
    "import pandas as pd\n",
    "\n",
    "# 2. Load the Breast Cancer Wisconsin dataset\n",
    "data = load_breast_cancer()\n",
    "\n",
    "\n",
    "# 3. Convert to DataFrame for exploration (optional)\n",
    "\n",
    "\n",
    "# 4. Train/test split\n",
    "\n",
    "\n",
    "# 5. Feature scaling (recommended)\n",
    "\n",
    "\n",
    "# 6. Train a Logistic Regression model\n",
    "\n",
    "\n",
    "# 7. Make predictions and evaluate\n",
    "\n",
    "\n",
    "# 8. Exercise: Try other classifiers (e.g., DecisionTreeClassifier, RandomForestClassifier, SVC)\n"
   ]
  }
 ],
 "metadata": {
  "kernelspec": {
   "display_name": "test.env",
   "language": "python",
   "name": "python3"
  },
  "language_info": {
   "codemirror_mode": {
    "name": "ipython",
    "version": 3
   },
   "file_extension": ".py",
   "mimetype": "text/x-python",
   "name": "python",
   "nbconvert_exporter": "python",
   "pygments_lexer": "ipython3",
   "version": "3.12.10"
  }
 },
 "nbformat": 4,
 "nbformat_minor": 5
}
